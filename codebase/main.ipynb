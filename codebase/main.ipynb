{
 "cells": [
  {
   "cell_type": "markdown",
   "id": "fe9d4f8f",
   "metadata": {},
   "source": [
    "# Fourier Transform\n",
    "\n",
    "This notebook will explain what a fourier transform is and show how it can be implemented in a real world application.\n",
    "\n",
    "### What are Fourier Transforms?\n",
    "\n",
    "\n",
    "\n",
    "### What are fourier transforms used for?\n",
    "\n",
    "\n",
    "### What is this example about?"
   ]
  },
  {
   "cell_type": "code",
   "execution_count": null,
   "id": "f2c52fee",
   "metadata": {
    "vscode": {
     "languageId": "plaintext"
    }
   },
   "outputs": [],
   "source": [
    "# Import required packages"
   ]
  },
  {
   "cell_type": "code",
   "execution_count": null,
   "id": "5ae02e61",
   "metadata": {
    "vscode": {
     "languageId": "plaintext"
    }
   },
   "outputs": [],
   "source": [
    "# Initial look into the stag sound"
   ]
  },
  {
   "cell_type": "code",
   "execution_count": null,
   "id": "c4056b69",
   "metadata": {
    "vscode": {
     "languageId": "plaintext"
    }
   },
   "outputs": [],
   "source": [
    "# Descriptive variables"
   ]
  },
  {
   "cell_type": "code",
   "execution_count": null,
   "id": "70ee86f0",
   "metadata": {
    "vscode": {
     "languageId": "plaintext"
    }
   },
   "outputs": [],
   "source": [
    "# Function for performing fourier transform"
   ]
  },
  {
   "cell_type": "code",
   "execution_count": null,
   "id": "87e03d27",
   "metadata": {
    "vscode": {
     "languageId": "plaintext"
    }
   },
   "outputs": [],
   "source": [
    "# Visualise fourier transform transform output"
   ]
  }
 ],
 "metadata": {
  "language_info": {
   "name": "python"
  }
 },
 "nbformat": 4,
 "nbformat_minor": 5
}
